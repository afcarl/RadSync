{
 "cells": [
  {
   "cell_type": "code",
   "execution_count": 2,
   "metadata": {
    "collapsed": false
   },
   "outputs": [
    {
     "name": "stdout",
     "output_type": "stream",
     "text": [
      "Populating the interactive namespace from numpy and matplotlib\n"
     ]
    },
    {
     "ename": "ImportError",
     "evalue": "No module named radsync_glue",
     "output_type": "error",
     "traceback": [
      "\u001b[0;31m---------------------------------------------------------------------------\u001b[0m",
      "\u001b[0;31mImportError\u001b[0m                               Traceback (most recent call last)",
      "\u001b[0;32m<ipython-input-2-554948d46928>\u001b[0m in \u001b[0;36m<module>\u001b[0;34m()\u001b[0m\n\u001b[1;32m      1\u001b[0m \u001b[0mget_ipython\u001b[0m\u001b[0;34m(\u001b[0m\u001b[0;34m)\u001b[0m\u001b[0;34m.\u001b[0m\u001b[0mmagic\u001b[0m\u001b[0;34m(\u001b[0m\u001b[0;34mu'pylab inline'\u001b[0m\u001b[0;34m)\u001b[0m\u001b[0;34m\u001b[0m\u001b[0m\n\u001b[1;32m      2\u001b[0m \u001b[0;32mimport\u001b[0m \u001b[0mseaborn\u001b[0m \u001b[0;32mas\u001b[0m \u001b[0msns\u001b[0m\u001b[0;34m\u001b[0m\u001b[0m\n\u001b[0;32m----> 3\u001b[0;31m \u001b[0;32mfrom\u001b[0m \u001b[0mSynchronator\u001b[0m \u001b[0;32mimport\u001b[0m \u001b[0mSynchronator\u001b[0m\u001b[0;34m\u001b[0m\u001b[0m\n\u001b[0m",
      "\u001b[0;32m/Users/jburgess/Research/RadSync/Synchronator/Synchronator.py\u001b[0m in \u001b[0;36m<module>\u001b[0;34m()\u001b[0m\n\u001b[1;32m      1\u001b[0m \u001b[0;32mimport\u001b[0m \u001b[0mnumpy\u001b[0m \u001b[0;32mas\u001b[0m \u001b[0mnp\u001b[0m\u001b[0;34m\u001b[0m\u001b[0m\n\u001b[1;32m      2\u001b[0m \u001b[0;32mimport\u001b[0m \u001b[0mmatplotlib\u001b[0m\u001b[0;34m.\u001b[0m\u001b[0mpyplot\u001b[0m \u001b[0;32mas\u001b[0m \u001b[0mplt\u001b[0m\u001b[0;34m\u001b[0m\u001b[0m\n\u001b[0;32m----> 3\u001b[0;31m \u001b[0;32mfrom\u001b[0m \u001b[0mradsync_glue\u001b[0m \u001b[0;32mimport\u001b[0m \u001b[0melectrons\u001b[0m\u001b[0;34m,\u001b[0m  \u001b[0msynchrotronPy\u001b[0m\u001b[0;34m,\u001b[0m \u001b[0memission\u001b[0m\u001b[0;34m\u001b[0m\u001b[0m\n\u001b[0m\u001b[1;32m      4\u001b[0m \u001b[0;34m\u001b[0m\u001b[0m\n\u001b[1;32m      5\u001b[0m \u001b[0;34m\u001b[0m\u001b[0m\n",
      "\u001b[0;31mImportError\u001b[0m: No module named radsync_glue"
     ]
    }
   ],
   "source": [
    "%pylab inline\n",
    "import seaborn as sns\n",
    "from Synchronator import Synchronator"
   ]
  },
  {
   "cell_type": "markdown",
   "metadata": {},
   "source": [
    "### The Synchronator\n",
    "#### Allows for comuptation of synchrotron cooled electrons\n",
    "\n",
    "First, instantiate the Synchronator. It takes as input the number of \n",
    "electron grid points"
   ]
  },
  {
   "cell_type": "code",
   "execution_count": 2,
   "metadata": {
    "collapsed": true
   },
   "outputs": [],
   "source": [
    "sync = Synchronator(Ngrid=100)"
   ]
  },
  {
   "cell_type": "markdown",
   "metadata": {},
   "source": [
    "### Set the electron parameters\n",
    "#### Must set this or you cannot compute radiation!"
   ]
  },
  {
   "cell_type": "code",
   "execution_count": 1,
   "metadata": {
    "collapsed": false
   },
   "outputs": [
    {
     "ename": "NameError",
     "evalue": "name 'sync' is not defined",
     "output_type": "error",
     "traceback": [
      "\u001b[0;31m---------------------------------------------------------------------------\u001b[0m",
      "\u001b[0;31mNameError\u001b[0m                                 Traceback (most recent call last)",
      "\u001b[0;32m<ipython-input-1-0437781c741f>\u001b[0m in \u001b[0;36m<module>\u001b[0;34m()\u001b[0m\n\u001b[0;32m----> 1\u001b[0;31m sync.SetParameters( ne=1E8,\n\u001b[0m\u001b[1;32m      2\u001b[0m                     \u001b[0mA\u001b[0m\u001b[0;34m=\u001b[0m\u001b[0;36m2E3\u001b[0m\u001b[0;34m,\u001b[0m \u001b[0;31m# B in Gauss\u001b[0m\u001b[0;34m\u001b[0m\u001b[0m\n\u001b[1;32m      3\u001b[0m                     \u001b[0mBG\u001b[0m\u001b[0;34m=\u001b[0m\u001b[0;36m500\u001b[0m\u001b[0;34m,\u001b[0m\u001b[0;34m\u001b[0m\u001b[0m\n\u001b[1;32m      4\u001b[0m                     \u001b[0mgamma_min\u001b[0m\u001b[0;34m=\u001b[0m\u001b[0;36m1.5E3\u001b[0m\u001b[0;34m,\u001b[0m \u001b[0;31m# Injection electron energy\u001b[0m\u001b[0;34m\u001b[0m\u001b[0m\n\u001b[1;32m      5\u001b[0m                     \u001b[0mgamma_max\u001b[0m\u001b[0;34m=\u001b[0m\u001b[0;36m1.E8\u001b[0m\u001b[0;34m,\u001b[0m  \u001b[0;31m# Maximum electron energy\u001b[0m\u001b[0;34m\u001b[0m\u001b[0m\n",
      "\u001b[0;31mNameError\u001b[0m: name 'sync' is not defined"
     ]
    }
   ],
   "source": [
    "sync.SetParameters( ne=1E8,\n",
    "                    A=2E3, # B in Gauss\n",
    "                    BG=500,\n",
    "                    gamma_min=1.5E3, # Injection electron energy\n",
    "                    gamma_max=1.E8,  # Maximum electron energy\n",
    "                    index=2.422,    # Electron Index\n",
    "                    tCoolFrac=1.E-5, #ignore this for now\n",
    "                    steps=1000, # Steps to iterate\n",
    "                    silent=False)\n",
    " \n",
    "loglog(sync.GetGammaGrid(), sync.GetGammaDist()) #Plot the electrons!\n",
    "\n",
    "\n",
    "sync.SetParameters( ne=1E8,\n",
    "                    A=2E3, # B in Gauss\n",
    "                    BG=500,\n",
    "                    gamma_min=1.5E3, # Injection electron energy\n",
    "                    gamma_max=1.E8,  # Maximum electron energy\n",
    "                    index=2.422,    # Electron Index\n",
    "                    tCoolFrac=1.E-5, #ignore this for now\n",
    "                    steps=1000, # Steps to iterate\n",
    "                    silent=False)\n",
    "loglog(sync.GetGammaGrid(), sync.GetGammaDist())\n",
    "ylim(1E-30)\n",
    "\n",
    "sync.SetParameters( ne=1E8,\n",
    "                    A=2E3, # B in Gauss\n",
    "                    BG=500,\n",
    "                    gamma_min=1.5E3, # Injection electron energy\n",
    "                    gamma_max=1.E8,  # Maximum electron energy\n",
    "                    index=2.422,    # Electron Index\n",
    "                    tCoolFrac=1.E-5, #ignore this for now\n",
    "                    steps=1000, # Steps to iterate\n",
    "                    silent=False)\n",
    "loglog(sync.GetGammaGrid(), sync.GetGammaDist())\n",
    "ylim(1E-18)\n",
    "\n",
    "xlabel(r'$\\gamma$')\n",
    "ylabel(r'n($\\gamma$)')"
   ]
  },
  {
   "cell_type": "markdown",
   "metadata": {},
   "source": [
    "### And also for photons!"
   ]
  },
  {
   "cell_type": "code",
   "execution_count": 6,
   "metadata": {
    "collapsed": false
   },
   "outputs": [
    {
     "name": "stdout",
     "output_type": "stream",
     "text": [
      "Cooling electrons...\n",
      "\n",
      "Synchrotron cooling time is 4.25e+01 s\n",
      "Cooling electrons for 4.25e-02 s\n",
      "Cooling electrons...\n",
      "\n",
      "Synchrotron cooling time is 4.25e+01 s\n",
      "Cooling electrons for 4.25e-04 s\n",
      "Cooling electrons...\n",
      "\n",
      "Synchrotron cooling time is 4.25e+01 s\n",
      "Cooling electrons for 4.25e-06 s\n"
     ]
    },
    {
     "data": {
      "text/plain": [
       "<matplotlib.text.Text at 0x10d6c5290>"
      ]
     },
     "execution_count": 6,
     "metadata": {},
     "output_type": "execute_result"
    },
    {
     "data": {
      "image/png": "[encoded data removed]",
      "text/plain": [
       "<matplotlib.figure.Figure at 0x10d1ba650>"
      ]
     },
     "metadata": {},
     "output_type": "display_data"
    }
   ],
   "source": [
    "sync.SetParameters( ne=1E8,\n",
    "                    A=5E5, # B in Gauss\n",
    "                    BG=500,\n",
    "                    gamma_min=5E3, # Injection electron energy\n",
    "                    gamma_max=1.E6,  # Maximum electron energy\n",
    "                    index=2.422,    # Electron Index\n",
    "                    tCoolFrac=1.E-5,\n",
    "                    steps=100,\n",
    "                    silent=False)\n",
    "\n",
    "\n",
    "eGrid = logspace(1,5,128)\n",
    "emission = array(sync.GetEmisson(eGrid,1))\n",
    "\n",
    "loglog(eGrid,eGrid**2*emission)\n",
    "\n",
    "\n",
    "xlabel('Energy [keV]')\n",
    "\n",
    "ylabel(r'$\\nu F_{\\nu}$')"
   ]
  },
  {
   "cell_type": "code",
   "execution_count": null,
   "metadata": {
    "collapsed": true
   },
   "outputs": [],
   "source": []
  }
 ],
 "metadata": {
  "kernelspec": {
   "display_name": "Python 2",
   "language": "python",
   "name": "python2"
  },
  "language_info": {
   "codemirror_mode": {
    "name": "ipython",
    "version": 2
   },
   "file_extension": ".py",
   "mimetype": "text/x-python",
   "name": "python",
   "nbconvert_exporter": "python",
   "pygments_lexer": "ipython2",
   "version": "2.7.11"
  },
  "widgets": {
   "state": {},
   "version": "1.1.1"
  }
 },
 "nbformat": 4,
 "nbformat_minor": 0
}
